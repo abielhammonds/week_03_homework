{
 "cells": [
  {
   "cell_type": "markdown",
   "metadata": {},
   "source": [
    "### Homework 3 Numpy Arrays\n",
    "\n",
    "1. Open `cars.csv` in jupyter and look at the data. (Double click `cars.csv` to open in a new tab).\n",
    "2. We are converting each **column** into an numpy array.\n",
    "3. Notice we have text, integer and float data. \n",
    "4. Take care not to overwrite your starter code."
   ]
  },
  {
   "cell_type": "code",
   "execution_count": 6,
   "metadata": {},
   "outputs": [],
   "source": [
    "#Starter code. Do NOT modify this cell\n",
    "import pandas as pd\n",
    "import numpy as np\n",
    "\n",
    "# Read in dataset\n",
    "df = pd.read_csv('cars.csv',delimiter=';')\n",
    "\n",
    "# Convert each column to an np.array\n",
    "car = df.Car.to_numpy()\n",
    "mpg = df.MPG.to_numpy()\n",
    "cylinders = df.Cylinders.to_numpy()\n",
    "displacement = df.Displacement.to_numpy()\n",
    "horsepower = df.Horsepower.to_numpy()\n",
    "weight = df.Weight.to_numpy()\n",
    "acceleration = df.Acceleration.to_numpy()\n",
    "model = df.Model.to_numpy()\n",
    "origin = df.Origin.to_numpy()\n",
    "\n",
    "# create an array of headers\n",
    "headers = np.array(['Car', 'MPG', 'Cylinders', 'Displacement', 'Horsepower', 'Weight','Acceleration', 'Model', 'Origin'])\n"
   ]
  },
  {
   "cell_type": "markdown",
   "metadata": {},
   "source": [
    "1. How can you get help on `np.array`?\n",
    "\n",
    "Call `dir()` on `np.array`. \n",
    "\n",
    "Call `dir()` on `car`.\n",
    "\n",
    "Note the difference. `car` has methods and attributes we can use."
   ]
  },
  {
   "cell_type": "code",
   "execution_count": null,
   "metadata": {},
   "outputs": [],
   "source": [
    "help(np.array)"
   ]
  },
  {
   "cell_type": "code",
   "execution_count": 9,
   "metadata": {},
   "outputs": [
    {
     "data": {
      "text/plain": [
       "['__call__',\n",
       " '__class__',\n",
       " '__delattr__',\n",
       " '__dir__',\n",
       " '__doc__',\n",
       " '__eq__',\n",
       " '__format__',\n",
       " '__ge__',\n",
       " '__getattribute__',\n",
       " '__gt__',\n",
       " '__hash__',\n",
       " '__init__',\n",
       " '__init_subclass__',\n",
       " '__le__',\n",
       " '__lt__',\n",
       " '__module__',\n",
       " '__name__',\n",
       " '__ne__',\n",
       " '__new__',\n",
       " '__qualname__',\n",
       " '__reduce__',\n",
       " '__reduce_ex__',\n",
       " '__repr__',\n",
       " '__self__',\n",
       " '__setattr__',\n",
       " '__sizeof__',\n",
       " '__str__',\n",
       " '__subclasshook__',\n",
       " '__text_signature__']"
      ]
     },
     "execution_count": 9,
     "metadata": {},
     "output_type": "execute_result"
    }
   ],
   "source": [
    "dir(np.array)"
   ]
  },
  {
   "cell_type": "code",
   "execution_count": 8,
   "metadata": {},
   "outputs": [
    {
     "data": {
      "text/plain": [
       "['T',\n",
       " '__abs__',\n",
       " '__add__',\n",
       " '__and__',\n",
       " '__array__',\n",
       " '__array_finalize__',\n",
       " '__array_function__',\n",
       " '__array_interface__',\n",
       " '__array_prepare__',\n",
       " '__array_priority__',\n",
       " '__array_struct__',\n",
       " '__array_ufunc__',\n",
       " '__array_wrap__',\n",
       " '__bool__',\n",
       " '__class__',\n",
       " '__complex__',\n",
       " '__contains__',\n",
       " '__copy__',\n",
       " '__deepcopy__',\n",
       " '__delattr__',\n",
       " '__delitem__',\n",
       " '__dir__',\n",
       " '__divmod__',\n",
       " '__doc__',\n",
       " '__eq__',\n",
       " '__float__',\n",
       " '__floordiv__',\n",
       " '__format__',\n",
       " '__ge__',\n",
       " '__getattribute__',\n",
       " '__getitem__',\n",
       " '__gt__',\n",
       " '__hash__',\n",
       " '__iadd__',\n",
       " '__iand__',\n",
       " '__ifloordiv__',\n",
       " '__ilshift__',\n",
       " '__imatmul__',\n",
       " '__imod__',\n",
       " '__imul__',\n",
       " '__index__',\n",
       " '__init__',\n",
       " '__init_subclass__',\n",
       " '__int__',\n",
       " '__invert__',\n",
       " '__ior__',\n",
       " '__ipow__',\n",
       " '__irshift__',\n",
       " '__isub__',\n",
       " '__iter__',\n",
       " '__itruediv__',\n",
       " '__ixor__',\n",
       " '__le__',\n",
       " '__len__',\n",
       " '__lshift__',\n",
       " '__lt__',\n",
       " '__matmul__',\n",
       " '__mod__',\n",
       " '__mul__',\n",
       " '__ne__',\n",
       " '__neg__',\n",
       " '__new__',\n",
       " '__or__',\n",
       " '__pos__',\n",
       " '__pow__',\n",
       " '__radd__',\n",
       " '__rand__',\n",
       " '__rdivmod__',\n",
       " '__reduce__',\n",
       " '__reduce_ex__',\n",
       " '__repr__',\n",
       " '__rfloordiv__',\n",
       " '__rlshift__',\n",
       " '__rmatmul__',\n",
       " '__rmod__',\n",
       " '__rmul__',\n",
       " '__ror__',\n",
       " '__rpow__',\n",
       " '__rrshift__',\n",
       " '__rshift__',\n",
       " '__rsub__',\n",
       " '__rtruediv__',\n",
       " '__rxor__',\n",
       " '__setattr__',\n",
       " '__setitem__',\n",
       " '__setstate__',\n",
       " '__sizeof__',\n",
       " '__str__',\n",
       " '__sub__',\n",
       " '__subclasshook__',\n",
       " '__truediv__',\n",
       " '__xor__',\n",
       " 'all',\n",
       " 'any',\n",
       " 'argmax',\n",
       " 'argmin',\n",
       " 'argpartition',\n",
       " 'argsort',\n",
       " 'astype',\n",
       " 'base',\n",
       " 'byteswap',\n",
       " 'choose',\n",
       " 'clip',\n",
       " 'compress',\n",
       " 'conj',\n",
       " 'conjugate',\n",
       " 'copy',\n",
       " 'ctypes',\n",
       " 'cumprod',\n",
       " 'cumsum',\n",
       " 'data',\n",
       " 'diagonal',\n",
       " 'dot',\n",
       " 'dtype',\n",
       " 'dump',\n",
       " 'dumps',\n",
       " 'fill',\n",
       " 'flags',\n",
       " 'flat',\n",
       " 'flatten',\n",
       " 'getfield',\n",
       " 'imag',\n",
       " 'item',\n",
       " 'itemset',\n",
       " 'itemsize',\n",
       " 'max',\n",
       " 'mean',\n",
       " 'min',\n",
       " 'nbytes',\n",
       " 'ndim',\n",
       " 'newbyteorder',\n",
       " 'nonzero',\n",
       " 'partition',\n",
       " 'prod',\n",
       " 'ptp',\n",
       " 'put',\n",
       " 'ravel',\n",
       " 'real',\n",
       " 'repeat',\n",
       " 'reshape',\n",
       " 'resize',\n",
       " 'round',\n",
       " 'searchsorted',\n",
       " 'setfield',\n",
       " 'setflags',\n",
       " 'shape',\n",
       " 'size',\n",
       " 'sort',\n",
       " 'squeeze',\n",
       " 'std',\n",
       " 'strides',\n",
       " 'sum',\n",
       " 'swapaxes',\n",
       " 'take',\n",
       " 'tobytes',\n",
       " 'tofile',\n",
       " 'tolist',\n",
       " 'tostring',\n",
       " 'trace',\n",
       " 'transpose',\n",
       " 'var',\n",
       " 'view']"
      ]
     },
     "execution_count": 8,
     "metadata": {},
     "output_type": "execute_result"
    }
   ],
   "source": [
    "dir(car)"
   ]
  },
  {
   "cell_type": "markdown",
   "metadata": {},
   "source": [
    "2. What are the numpy datatypes for the `car`,`mpg`, `horsepower` and `origin` arrays? (Hint: Not `type(car)` and use `print()` to print the numpy type.)"
   ]
  },
  {
   "cell_type": "code",
   "execution_count": 3,
   "metadata": {},
   "outputs": [
    {
     "name": "stdout",
     "output_type": "stream",
     "text": [
      "object\n",
      "float64\n",
      "float64\n",
      "object\n"
     ]
    }
   ],
   "source": [
    "print(car.dtype)\n",
    "print(mpg.dtype)\n",
    "print(horsepower.dtype)\n",
    "print(origin.dtype)"
   ]
  },
  {
   "cell_type": "markdown",
   "metadata": {},
   "source": [
    "3. `numpy` is often imported as `np`. What is this action called? Why might you do this? "
   ]
  },
  {
   "cell_type": "code",
   "execution_count": null,
   "metadata": {},
   "outputs": [],
   "source": [
    "#the import numpy as np action imports the numpy library so that you have access to the commands needed\n",
    "#to create arrays and perform actions on them."
   ]
  },
  {
   "cell_type": "markdown",
   "metadata": {},
   "source": [
    "4. Each of the arrays (cars, mpg, cylinders, etc..) has how many dimensions? Show how to find this using code. "
   ]
  },
  {
   "cell_type": "code",
   "execution_count": 7,
   "metadata": {},
   "outputs": [
    {
     "name": "stdout",
     "output_type": "stream",
     "text": [
      "(406,)\n",
      "(406,)\n",
      "(406,)\n",
      "(406,)\n",
      "(406,)\n",
      "(406,)\n",
      "(406,)\n",
      "(9,)\n"
     ]
    }
   ],
   "source": [
    "car.ndim\n",
    "mpg.ndim\n",
    "print(cylinders.shape)\n",
    "print(displacement.shape)\n",
    "print(horsepower.shape)\n",
    "print(weight.shape)\n",
    "print(acceleration.shape)\n",
    "print(model.shape)\n",
    "print(origin.shape)\n",
    "print(headers.shape)\n",
    "#At first, I had a print statement for each array.  then, I went back and tried ndim on a couple of the arrays."
   ]
  },
  {
   "cell_type": "markdown",
   "metadata": {},
   "source": [
    "5. Show how to:\n",
    "\n",
    "- multiply the `mpg` array by 12.\n",
    "- divide the `mpg` array by 3.\n",
    "- raise the `mpg` array to the power of 4.\n",
    "- take the square root of the `mpg` array."
   ]
  },
  {
   "cell_type": "code",
   "execution_count": 25,
   "metadata": {},
   "outputs": [
    {
     "name": "stdout",
     "output_type": "stream",
     "text": [
      "[216.  180.  216.  192.  204.  180.  168.  168.  168.  180.    0.    0.\n",
      "   0.    0.    0.  180.  168.    0.  180.  168.  288.  264.  216.  252.\n",
      " 324.  312.  300.  288.  300.  312.  252.  120.  120.  132.  108.  324.\n",
      " 336.  300.  300.    0.  228.  192.  204.  228.  216.  168.  168.  168.\n",
      " 168.  144.  156.  156.  216.  264.  228.  216.  276.  336.  360.  360.\n",
      " 372.  420.  324.  312.  288.  300.  276.  240.  252.  156.  168.  180.\n",
      " 168.  204.  132.  156.  144.  156.  228.  180.  156.  156.  168.  216.\n",
      " 264.  252.  312.  264.  336.  276.  336.  324.  156.  168.  156.  168.\n",
      " 180.  144.  156.  156.  168.  156.  144.  156.  216.  192.  216.  216.\n",
      " 276.  312.  132.  144.  156.  144.  216.  240.  252.  264.  216.  228.\n",
      " 252.  312.  180.  192.  348.  288.  240.  228.  180.  288.  240.  132.\n",
      " 240.  252.  228.  180.  372.  312.  384.  300.  192.  192.  216.  192.\n",
      " 156.  168.  168.  168.  348.  312.  312.  372.  384.  336.  288.  312.\n",
      " 288.  312.  372.  228.  216.  180.  180.  192.  180.  192.  168.  204.\n",
      " 192.  180.  216.  252.  240.  156.  348.  276.  240.  276.  288.  300.\n",
      " 288.  216.  348.  228.  276.  276.  264.  300.  396.  336.  300.  300.\n",
      " 312.  324.  210.  192.  186.  174.  264.  264.  288.  270.  348.  294.\n",
      " 348.  396.  240.  216.  222.  210.  354.  384.  336.  318.  240.  156.\n",
      " 228.  228.  198.  198.  156.  156.  156.  378.  360.  432.  306.  402.\n",
      " 210.  204.  186.  180.  210.  246.  228.  222.  192.  186.  186.  192.\n",
      " 348.  294.  312.  306.  366.  402.  360.  366.  264.  258.  258.  517.2\n",
      " 433.2 393.6 472.8 433.2 238.8 232.8 242.4 230.4 246.  242.4 301.2 246.\n",
      " 232.8 247.2 249.6 223.2 217.2 230.4 212.4 217.2 210.  360.  330.  326.4\n",
      " 370.8 253.2 278.4 285.6 286.8 243.6 204.  259.2 194.4 378.  354.  258.\n",
      " 237.6 267.6 242.4 247.2 204.  211.2 198.  218.4 202.8 186.  230.4 222.\n",
      " 382.8 409.2 428.4 328.8 304.8 276.  326.4 286.8 410.4 414.  381.6 447.6\n",
      " 340.8 345.6 321.6 402.  498.  457.2 385.2 446.4 336.  316.8 291.6 229.2\n",
      " 411.6 357.6 375.6 444.  386.4 559.2 334.8 489.6 531.6 520.8 436.8 360.\n",
      " 535.2 490.8 405.6 357.6 392.4 284.4 420.  283.2 388.8 326.4 319.2 309.6\n",
      " 282.  360.  469.2 468.  421.2 387.6 444.  452.4 409.2 416.4 412.8 358.8\n",
      " 396.  414.  404.4 388.8 394.8 379.2 337.2   0.  368.4 304.8 290.4 268.8\n",
      " 319.2 242.4 211.2 336.  324.  408.  372.  348.  324.  288.  276.  432.\n",
      " 444.  372.  456.  432.  432.  432.  408.  456.  384.  456.  300.  456.\n",
      " 312.  264.  384.  432.  324.  324.  528.  384.  336.  372. ]\n"
     ]
    }
   ],
   "source": [
    "#this is how to multiply the mpg array by 12.\n",
    "print(mpg * 12)"
   ]
  },
  {
   "cell_type": "code",
   "execution_count": 28,
   "metadata": {},
   "outputs": [
    {
     "name": "stdout",
     "output_type": "stream",
     "text": [
      "[ 6.  5.  6.  5.  5.  5.  4.  4.  4.  5.  0.  0.  0.  0.  0.  5.  4.  0.\n",
      "  5.  4.  8.  7.  6.  7.  9.  8.  8.  8.  8.  8.  7.  3.  3.  3.  3.  9.\n",
      "  9.  8.  8.  0.  6.  5.  5.  6.  6.  4.  4.  4.  4.  4.  4.  4.  6.  7.\n",
      "  6.  6.  7.  9. 10. 10. 10. 11.  9.  8.  8.  8.  7.  6.  7.  4.  4.  5.\n",
      "  4.  5.  3.  4.  4.  4.  6.  5.  4.  4.  4.  6.  7.  7.  8.  7.  9.  7.\n",
      "  9.  9.  4.  4.  4.  4.  5.  4.  4.  4.  4.  4.  4.  4.  6.  5.  6.  6.\n",
      "  7.  8.  3.  4.  4.  4.  6.  6.  7.  7.  6.  6.  7.  8.  5.  5.  9.  8.\n",
      "  6.  6.  5.  8.  6.  3.  6.  7.  6.  5. 10.  8. 10.  8.  5.  5.  6.  5.\n",
      "  4.  4.  4.  4.  9.  8.  8. 10. 10.  9.  8.  8.  8.  8. 10.  6.  6.  5.\n",
      "  5.  5.  5.  5.  4.  5.  5.  5.  6.  7.  6.  4.  9.  7.  6.  7.  8.  8.\n",
      "  8.  6.  9.  6.  7.  7.  7.  8. 11.  9.  8.  8.  8.  9.  5.  5.  5.  4.\n",
      "  7.  7.  8.  7.  9.  8.  9. 11.  6.  6.  6.  5.  9. 10.  9.  8.  6.  4.\n",
      "  6.  6.  5.  5.  4.  4.  4. 10. 10. 12.  8. 11.  5.  5.  5.  5.  5.  6.\n",
      "  6.  6.  5.  5.  5.  5.  9.  8.  8.  8. 10. 11. 10. 10.  7.  7.  7. 14.\n",
      " 12. 10. 13. 12.  6.  6.  6.  6.  6.  6.  8.  6.  6.  6.  6.  6.  6.  6.\n",
      "  5.  6.  5. 10.  9.  9. 10.  7.  7.  7.  7.  6.  5.  7.  5. 10.  9.  7.\n",
      "  6.  7.  6.  6.  5.  5.  5.  6.  5.  5.  6.  6. 10. 11. 11.  9.  8.  7.\n",
      "  9.  7. 11. 11. 10. 12.  9.  9.  8. 11. 13. 12. 10. 12.  9.  8.  8.  6.\n",
      " 11.  9. 10. 12. 10. 15.  9. 13. 14. 14. 12. 10. 14. 13. 11.  9. 10.  7.\n",
      " 11.  7. 10.  9.  8.  8.  7. 10. 13. 13. 11. 10. 12. 12. 11. 11. 11.  9.\n",
      " 11. 11. 11. 10. 10. 10.  9.  0. 10.  8.  8.  7.  8.  6.  5.  9.  9. 11.\n",
      " 10.  9.  9.  8.  7. 12. 12. 10. 12. 12. 12. 12. 11. 12. 10. 12.  8. 12.\n",
      "  8.  7. 10. 12.  9.  9. 14. 10.  9. 10.]\n"
     ]
    }
   ],
   "source": [
    "#this is how to divide the mpg array by 3.\n",
    "print(mpg // 3)"
   ]
  },
  {
   "cell_type": "code",
   "execution_count": 29,
   "metadata": {},
   "outputs": [
    {
     "name": "stdout",
     "output_type": "stream",
     "text": [
      "[ 104976.       50625.      104976.       65536.       83521.\n",
      "   50625.       38416.       38416.       38416.       50625.\n",
      "       0.           0.           0.           0.           0.\n",
      "   50625.       38416.           0.       50625.       38416.\n",
      "  331776.      234256.      104976.      194481.      531441.\n",
      "  456976.      390625.      331776.      390625.      456976.\n",
      "  194481.       10000.       10000.       14641.        6561.\n",
      "  531441.      614656.      390625.      390625.           0.\n",
      "  130321.       65536.       83521.      130321.      104976.\n",
      "   38416.       38416.       38416.       38416.       20736.\n",
      "   28561.       28561.      104976.      234256.      130321.\n",
      "  104976.      279841.      614656.      810000.      810000.\n",
      "  923521.     1500625.      531441.      456976.      331776.\n",
      "  390625.      279841.      160000.      194481.       28561.\n",
      "   38416.       50625.       38416.       83521.       14641.\n",
      "   28561.       20736.       28561.      130321.       50625.\n",
      "   28561.       28561.       38416.      104976.      234256.\n",
      "  194481.      456976.      234256.      614656.      279841.\n",
      "  614656.      531441.       28561.       38416.       28561.\n",
      "   38416.       50625.       20736.       28561.       28561.\n",
      "   38416.       28561.       20736.       28561.      104976.\n",
      "   65536.      104976.      104976.      279841.      456976.\n",
      "   14641.       20736.       28561.       20736.      104976.\n",
      "  160000.      194481.      234256.      104976.      130321.\n",
      "  194481.      456976.       50625.       65536.      707281.\n",
      "  331776.      160000.      130321.       50625.      331776.\n",
      "  160000.       14641.      160000.      194481.      130321.\n",
      "   50625.      923521.      456976.     1048576.      390625.\n",
      "   65536.       65536.      104976.       65536.       28561.\n",
      "   38416.       38416.       38416.      707281.      456976.\n",
      "  456976.      923521.     1048576.      614656.      331776.\n",
      "  456976.      331776.      456976.      923521.      130321.\n",
      "  104976.       50625.       50625.       65536.       50625.\n",
      "   65536.       38416.       83521.       65536.       50625.\n",
      "  104976.      194481.      160000.       28561.      707281.\n",
      "  279841.      160000.      279841.      331776.      390625.\n",
      "  331776.      104976.      707281.      130321.      279841.\n",
      "  279841.      234256.      390625.     1185921.      614656.\n",
      "  390625.      390625.      456976.      531441.       93789.0625\n",
      "   65536.       57720.0625   44205.0625  234256.      234256.\n",
      "  331776.      256289.0625  707281.      360300.0625  707281.\n",
      " 1185921.      160000.      104976.      117135.0625   93789.0625\n",
      "  757335.0625 1048576.      614656.      493155.0625  160000.\n",
      "   28561.      130321.      130321.       74120.0625   74120.0625\n",
      "   28561.       28561.       28561.      984560.0625  810000.\n",
      " 1679616.      422825.0625 1259445.0625   93789.0625   83521.\n",
      "   57720.0625   50625.       93789.0625  176610.0625  130321.\n",
      "  117135.0625   65536.       57720.0625   57720.0625   65536.\n",
      "  707281.      360300.0625  456976.      422825.0625  865365.0625\n",
      " 1259445.0625  810000.      865365.0625  234256.      213675.0625\n",
      "  213675.0625 3450714.9121 1698356.3041 1157431.7056 2409821.5696\n",
      " 1698356.3041  156823.9201  141646.8496  166496.6416  135895.4496\n",
      "  176610.0625  166496.6416  396912.6001  176610.0625  141646.8496\n",
      "  180081.4096  187177.3696  119688.3216  107328.3121  135895.4496\n",
      "   98150.6241  107328.3121   93789.0625  810000.      571914.0625\n",
      "  547363.2256  911662.1361  198211.9441  289702.2976  320854.2736\n",
      "  326280.8641  169818.1681   83521.      217678.2336   68874.7536\n",
      "  984560.0625  757335.0625  213675.0625  153695.3616  247297.3441\n",
      "  166496.6416  180081.4096   83521.       95951.2576   74120.0625\n",
      "  109719.9376   81573.0721   57720.0625  135895.4496  117135.0625\n",
      " 1035530.1121 1352127.0961 1624324.7601  563640.5776  416231.4256\n",
      "  279841.      547363.2256  326280.8641 1368057.7296 1416695.0625\n",
      " 1022606.3376 1935687.8641  650539.0336  687970.7136  515868.6976\n",
      " 1259445.0625 2966145.0625 2107171.5921 1061744.7681 1915013.1456\n",
      "  614656.      485753.2416  348678.4401  133086.3361 1384128.7201\n",
      "  788615.0416  959792.4961 1874161.     1075037.1856 4715672.8336\n",
      "  605922.1281 2771026.3296 3851367.0001 3547798.2736 1755519.0016\n",
      "  810000.     3956757.5056 2798293.2961 1305169.1536  788615.0416\n",
      " 1143381.1041  315495.6561 1500625.      310204.4416 1101996.0576\n",
      "  547363.2256  500641.1536  443076.6096  304980.0625  810000.\n",
      " 2337260.0161 2313441.     1517848.6401 1088454.0241 1874161.\n",
      " 2020065.2641 1352127.0961 1449832.7281 1400340.8896  799253.8801\n",
      " 1185921.     1416695.0625 1289791.7761 1101996.0576 1171611.4081\n",
      "  997122.0736  623483.9521       0.      888287.4001  416231.4256\n",
      "  342974.2096  251763.0976  500641.1536  166496.6416   95951.2576\n",
      "  614656.      531441.     1336336.      923521.      707281.\n",
      "  531441.      331776.      279841.     1679616.     1874161.\n",
      "  923521.     2085136.     1679616.     1679616.     1679616.\n",
      " 1336336.     2085136.     1048576.     2085136.      390625.\n",
      " 2085136.      456976.      234256.     1048576.     1679616.\n",
      "  531441.      531441.     3748096.     1048576.      614656.\n",
      "  923521.    ]\n"
     ]
    }
   ],
   "source": [
    "#this is how to raise the mpg array to the power of 4.\n",
    "print(mpg ** 4)"
   ]
  },
  {
   "cell_type": "code",
   "execution_count": 59,
   "metadata": {},
   "outputs": [
    {
     "name": "stdout",
     "output_type": "stream",
     "text": [
      "[4.24264069 3.87298335 4.24264069 4.         4.12310563 3.87298335\n",
      " 3.74165739 3.74165739 3.74165739 3.87298335 0.         0.\n",
      " 0.         0.         0.         3.87298335 3.74165739 0.\n",
      " 3.87298335 3.74165739 4.89897949 4.69041576 4.24264069 4.58257569\n",
      " 5.19615242 5.09901951 5.         4.89897949 5.         5.09901951\n",
      " 4.58257569 3.16227766 3.16227766 3.31662479 3.         5.19615242\n",
      " 5.29150262 5.         5.         0.         4.35889894 4.\n",
      " 4.12310563 4.35889894 4.24264069 3.74165739 3.74165739 3.74165739\n",
      " 3.74165739 3.46410162 3.60555128 3.60555128 4.24264069 4.69041576\n",
      " 4.35889894 4.24264069 4.79583152 5.29150262 5.47722558 5.47722558\n",
      " 5.56776436 5.91607978 5.19615242 5.09901951 4.89897949 5.\n",
      " 4.79583152 4.47213595 4.58257569 3.60555128 3.74165739 3.87298335\n",
      " 3.74165739 4.12310563 3.31662479 3.60555128 3.46410162 3.60555128\n",
      " 4.35889894 3.87298335 3.60555128 3.60555128 3.74165739 4.24264069\n",
      " 4.69041576 4.58257569 5.09901951 4.69041576 5.29150262 4.79583152\n",
      " 5.29150262 5.19615242 3.60555128 3.74165739 3.60555128 3.74165739\n",
      " 3.87298335 3.46410162 3.60555128 3.60555128 3.74165739 3.60555128\n",
      " 3.46410162 3.60555128 4.24264069 4.         4.24264069 4.24264069\n",
      " 4.79583152 5.09901951 3.31662479 3.46410162 3.60555128 3.46410162\n",
      " 4.24264069 4.47213595 4.58257569 4.69041576 4.24264069 4.35889894\n",
      " 4.58257569 5.09901951 3.87298335 4.         5.38516481 4.89897949\n",
      " 4.47213595 4.35889894 3.87298335 4.89897949 4.47213595 3.31662479\n",
      " 4.47213595 4.58257569 4.35889894 3.87298335 5.56776436 5.09901951\n",
      " 5.65685425 5.         4.         4.         4.24264069 4.\n",
      " 3.60555128 3.74165739 3.74165739 3.74165739 5.38516481 5.09901951\n",
      " 5.09901951 5.56776436 5.65685425 5.29150262 4.89897949 5.09901951\n",
      " 4.89897949 5.09901951 5.56776436 4.35889894 4.24264069 3.87298335\n",
      " 3.87298335 4.         3.87298335 4.         3.74165739 4.12310563\n",
      " 4.         3.87298335 4.24264069 4.58257569 4.47213595 3.60555128\n",
      " 5.38516481 4.79583152 4.47213595 4.79583152 4.89897949 5.\n",
      " 4.89897949 4.24264069 5.38516481 4.35889894 4.79583152 4.79583152\n",
      " 4.69041576 5.         5.74456265 5.29150262 5.         5.\n",
      " 5.09901951 5.19615242 4.18330013 4.         3.93700394 3.80788655\n",
      " 4.69041576 4.69041576 4.89897949 4.74341649 5.38516481 4.94974747\n",
      " 5.38516481 5.74456265 4.47213595 4.24264069 4.30116263 4.18330013\n",
      " 5.43139025 5.65685425 5.29150262 5.14781507 4.47213595 3.60555128\n",
      " 4.35889894 4.35889894 4.0620192  4.0620192  3.60555128 3.60555128\n",
      " 3.60555128 5.61248608 5.47722558 6.         5.04975247 5.78791845\n",
      " 4.18330013 4.12310563 3.93700394 3.87298335 4.18330013 4.52769257\n",
      " 4.35889894 4.30116263 4.         3.93700394 3.93700394 4.\n",
      " 5.38516481 4.94974747 5.09901951 5.04975247 5.52268051 5.78791845\n",
      " 5.47722558 5.52268051 4.69041576 4.63680925 4.63680925 6.56505902\n",
      " 6.00832755 5.72712843 6.27694193 6.00832755 4.4609416  4.40454311\n",
      " 4.49444101 4.38178046 4.52769257 4.49444101 5.00999002 4.52769257\n",
      " 4.40454311 4.53872229 4.5607017  4.31277173 4.25440948 4.38178046\n",
      " 4.20713679 4.25440948 4.18330013 5.47722558 5.24404424 5.21536192\n",
      " 5.55877684 4.59347363 4.81663783 4.87852437 4.88876262 4.50555213\n",
      " 4.12310563 4.64758002 4.02492236 5.61248608 5.43139025 4.63680925\n",
      " 4.44971909 4.72228758 4.49444101 4.53872229 4.12310563 4.19523539\n",
      " 4.0620192  4.2661458  4.11096096 3.93700394 4.38178046 4.30116263\n",
      " 5.6480085  5.83952053 5.9749477  5.23450093 5.03984127 4.79583152\n",
      " 5.21536192 4.88876262 5.84807661 5.87367006 5.63914887 6.10737259\n",
      " 5.32916504 5.36656315 5.17687164 5.78791845 6.44204936 6.17251974\n",
      " 5.66568619 6.09918027 5.29150262 5.13809303 4.92950302 4.37035468\n",
      " 5.85662019 5.45893763 5.59464029 6.08276253 5.67450438 6.82641927\n",
      " 5.28204506 6.38748777 6.65582452 6.58786764 6.03324125 5.47722558\n",
      " 6.67832314 6.39531078 5.81377674 5.45893763 5.71839138 4.86826458\n",
      " 5.91607978 4.85798312 5.69209979 5.21536192 5.15751878 5.07937004\n",
      " 4.84767986 5.47722558 6.25299928 6.244998   5.9245253  5.6833089\n",
      " 6.08276253 6.14003257 5.83952053 5.89067059 5.86515132 5.46808925\n",
      " 5.74456265 5.87367006 5.80517011 5.69209979 5.73585216 5.62138773\n",
      " 5.30094331 0.         5.54075807 5.03984127 4.91934955 4.73286383\n",
      " 5.15751878 4.49444101 4.19523539 5.29150262 5.19615242 5.83095189\n",
      " 5.56776436 5.38516481 5.19615242 4.89897949 4.79583152 6.\n",
      " 6.08276253 5.56776436 6.164414   6.         6.         6.\n",
      " 5.83095189 6.164414   5.65685425 6.164414   5.         6.164414\n",
      " 5.09901951 4.69041576 5.65685425 6.         5.19615242 5.19615242\n",
      " 6.63324958 5.65685425 5.29150262 5.56776436]\n"
     ]
    }
   ],
   "source": [
    "#this is how to take the square root of the mpg array.\n",
    "\n",
    "print(np.sqrt(mpg))"
   ]
  },
  {
   "cell_type": "markdown",
   "metadata": {},
   "source": [
    "6. What is the ___ of `horsepower`?\n",
    "- sum\n",
    "- min\n",
    "- max\n",
    "- median\n",
    "- Optional: mode (May need to google help)"
   ]
  },
  {
   "cell_type": "code",
   "execution_count": 13,
   "metadata": {},
   "outputs": [
    {
     "name": "stdout",
     "output_type": "stream",
     "text": [
      "Sum of horsepower: 42033.0\n",
      "Min of horsepower: 0.0\n",
      "Max of horsepower: 230.0\n",
      "Median of horsepower: 93.5\n",
      "Mode of horsepower: ModeResult(mode=array([150.]), count=array([22]))\n"
     ]
    }
   ],
   "source": [
    "print(\"Sum of horsepower: \" + str(np.sum(horsepower)))\n",
    "print(\"Min of horsepower: \" + str(np.min(horsepower)))\n",
    "print(\"Max of horsepower: \" + str(np.max(horsepower)))\n",
    "print(\"Median of horsepower: \" + str(np.median(horsepower)))\n",
    "\n",
    "from scipy import stats\n",
    "stats.mode(horsepower)\n",
    "print(\"Mode of horsepower: \" + str(stats.mode(horsepower)))"
   ]
  },
  {
   "cell_type": "markdown",
   "metadata": {},
   "source": [
    "7. Select a subset of `acceleration`. \n",
    "\n",
    "- Select only the first 5 elements.\n",
    "- Select every other element (new selection)."
   ]
  },
  {
   "cell_type": "code",
   "execution_count": 18,
   "metadata": {},
   "outputs": [
    {
     "name": "stdout",
     "output_type": "stream",
     "text": [
      "[12.  11.5 11.  12.  10.5]\n"
     ]
    }
   ],
   "source": [
    "print(acceleration[:5])"
   ]
  },
  {
   "cell_type": "code",
   "execution_count": 19,
   "metadata": {},
   "outputs": [
    {
     "name": "stdout",
     "output_type": "stream",
     "text": [
      "[12.  11.5 11.  12.  10.5 10.   9.   8.5 10.   8.5 17.5 11.5 11.  10.5\n",
      " 11.  10.   8.   8.   9.5 10.  15.  15.5 15.5 16.  14.5 20.5 17.5 14.5\n",
      " 17.5 12.5 15.  14.  15.  13.5 18.5 14.5 15.5 14.  19.  20.  13.  15.5\n",
      " 15.5 15.5 15.5 12.  11.5 13.5 13.  11.5 12.  12.  13.5 19.  15.  14.5\n",
      " 14.  14.  19.5 14.5 19.  18.  19.  20.5 15.5 17.  23.5 19.5 16.5 12.\n",
      " 12.  13.5 13.  11.5 11.  13.5 13.5 12.5 13.5 12.5 14.  16.  14.  14.5\n",
      " 18.  19.5 18.  16.  17.  14.5 15.  16.5 13.  11.5 13.  14.5 12.5 11.5\n",
      " 12.  13.  14.5 11.  11.  11.  16.5 18.  16.  16.5 16.  21.  14.  12.5\n",
      " 13.  12.5 15.  19.  19.5 16.5 13.5 18.5 14.  15.5 13.   9.5 19.5 15.5\n",
      " 14.  15.5 11.  14.  13.5 11.  16.5 17.  16.  17.  19.  16.5 21.  17.\n",
      " 17.  18.  16.5 14.  14.5 13.5 16.  15.5 16.5 15.5 14.5 16.5 19.  14.5\n",
      " 15.5 14.  15.  15.5 16.  16.  16.  21.  19.5 11.5 14.  14.5 13.5 21.\n",
      " 18.5 19.  19.  15.  13.5 12.  16.  17.  16.  18.5 13.5 16.5 17.  14.5\n",
      " 14.  17.  15.  17.  14.5 13.5 17.5 15.5 16.9 14.9 17.7 15.3 13.  13.\n",
      " 13.9 12.8 15.4 14.5 17.6 17.6 22.2 22.1 14.2 17.4 17.7 21.  16.2 17.8\n",
      " 12.2 17.  16.4 13.6 15.7 13.2 21.9 15.5 16.7 12.1 12.  15.  14.  18.5\n",
      " 14.8 18.6 15.5 16.8 12.5 19.  13.7 14.9 16.4 16.9 17.7 19.  11.1 11.4\n",
      " 12.2 14.5 14.5 16.  18.2 15.8 17.  15.9 16.4 14.1 14.5 12.8 13.5 21.5\n",
      " 14.4 19.4 18.6 16.4 15.5 13.2 12.8 19.2 18.2 15.8 15.4 17.2 17.2 15.8\n",
      " 16.7 18.7 15.1 13.2 13.4 11.2 13.7 16.5 14.2 14.7 14.5 14.8 16.7 17.6\n",
      " 14.9 15.9 13.6 15.7 15.8 14.9 16.6 15.4 18.2 17.3 18.2 16.6 15.4 13.4\n",
      " 13.2 15.2 14.9 14.3 15.  13.  14.  15.2 14.4 15.  20.1 17.4 24.8 22.2\n",
      " 13.2 14.9 19.2 14.7 16.  11.3 12.9 13.2 14.7 18.8 15.5 16.4 16.5 18.1\n",
      " 20.1 18.7 15.8 15.5 17.5 15.  15.2 17.9 14.4 19.2 21.7 23.7 19.9 21.8\n",
      " 13.8 17.3 18.  15.3 11.4 12.5 15.1 14.3 17.  15.7 16.4 14.4 12.6 12.9\n",
      " 16.9 16.4 16.1 17.8 19.4 17.3 16.  14.9 16.2 20.7 14.2 15.8 14.4 16.8\n",
      " 14.8 18.3 20.4 15.4 19.6 12.6 13.8 15.8 19.  17.1 16.6 19.6 18.6 18.\n",
      " 16.2 16.  18.  16.4 20.5 15.3 18.2 17.6 14.7 17.3 14.5 14.5 16.9 15.\n",
      " 15.7 16.2 16.4 17.  14.5 14.7 13.9 13.  17.3 15.6 24.6 11.6 18.6 19.4]\n"
     ]
    }
   ],
   "source": [
    "#this is printing the entire list of values in acceleration\n",
    "print(acceleration)"
   ]
  },
  {
   "cell_type": "code",
   "execution_count": 17,
   "metadata": {},
   "outputs": [
    {
     "name": "stdout",
     "output_type": "stream",
     "text": [
      "[12.  11.  10.5  9.  10.  17.5 11.  11.   8.   9.5 15.  15.5 14.5 17.5\n",
      " 17.5 15.  15.  18.5 15.5 19.  13.  15.5 15.5 11.5 13.  12.  13.5 15.\n",
      " 14.  19.5 19.  19.  15.5 23.5 16.5 12.  13.  11.  13.5 13.5 14.  14.\n",
      " 18.  18.  17.  15.  13.  13.  12.5 12.  14.5 11.  16.5 16.  16.  14.\n",
      " 13.  15.  19.5 13.5 14.  13.  19.5 14.  11.  13.5 16.5 16.  19.  21.\n",
      " 17.  16.5 14.5 16.  16.5 14.5 19.  15.5 15.  16.  16.  19.5 14.  13.5\n",
      " 18.5 19.  13.5 16.  16.  13.5 17.  14.  15.  14.5 17.5 16.9 17.7 13.\n",
      " 13.9 15.4 17.6 22.2 14.2 17.7 16.2 12.2 16.4 15.7 21.9 16.7 12.  14.\n",
      " 14.8 15.5 12.5 13.7 16.4 17.7 11.1 12.2 14.5 18.2 17.  16.4 14.5 13.5\n",
      " 14.4 18.6 15.5 12.8 18.2 15.4 17.2 16.7 15.1 13.4 13.7 14.2 14.5 16.7\n",
      " 14.9 13.6 15.8 16.6 18.2 18.2 15.4 13.2 14.9 15.  14.  14.4 20.1 24.8\n",
      " 13.2 19.2 16.  12.9 14.7 15.5 16.5 20.1 15.8 17.5 15.2 14.4 21.7 19.9\n",
      " 13.8 18.  11.4 15.1 17.  16.4 12.6 16.9 16.1 19.4 16.  16.2 14.2 14.4\n",
      " 14.8 20.4 19.6 13.8 19.  16.6 18.6 16.2 18.  20.5 18.2 14.7 14.5 16.9\n",
      " 15.7 16.4 14.5 13.9 17.3 24.6 18.6]\n"
     ]
    }
   ],
   "source": [
    "#Select every other element (new selection)\n",
    "#you can use numpy's slicing, simply start:stop:step.\n",
    "print(acceleration[::2])"
   ]
  },
  {
   "cell_type": "markdown",
   "metadata": {},
   "source": [
    "8. Show how to select the number `99` in the array below. "
   ]
  },
  {
   "cell_type": "code",
   "execution_count": 38,
   "metadata": {},
   "outputs": [],
   "source": [
    "select_99 = np.array([[1,2,3],\n",
    "                      [4,5,99]])"
   ]
  },
  {
   "cell_type": "code",
   "execution_count": 42,
   "metadata": {},
   "outputs": [
    {
     "name": "stdout",
     "output_type": "stream",
     "text": [
      "(2, 3)\n",
      "99\n"
     ]
    }
   ],
   "source": [
    "print(select_99.shape)\n",
    "print(select_99[1,2])\n",
    "#Wow - 99 is the second row (index 1) and 3rd column (index 2).  This surprised me a little."
   ]
  },
  {
   "cell_type": "markdown",
   "metadata": {},
   "source": [
    "9. Select the last element in each subarray (do this with one operation.)"
   ]
  },
  {
   "cell_type": "code",
   "execution_count": 45,
   "metadata": {},
   "outputs": [],
   "source": [
    "select_more = np.array([[1,2,3],\n",
    "                      [4,5,6],\n",
    "                      [7,8,9]])\n",
    "# returns array([3, 6, 9])"
   ]
  },
  {
   "cell_type": "code",
   "execution_count": 54,
   "metadata": {},
   "outputs": [
    {
     "name": "stdout",
     "output_type": "stream",
     "text": [
      "(3, 3)\n",
      "[3 6 9]\n"
     ]
    }
   ],
   "source": [
    "print(select_more.shape)\n",
    "print(select_more[:,2])  #YAY!"
   ]
  },
  {
   "cell_type": "markdown",
   "metadata": {},
   "source": [
    "10. Use the built-in `np.lookfor()` function to search for `'log'`.\n",
    "\n",
    "Use the function you find and apply it to `mpg`."
   ]
  },
  {
   "cell_type": "code",
   "execution_count": 62,
   "metadata": {},
   "outputs": [
    {
     "name": "stdout",
     "output_type": "stream",
     "text": [
      "Search results for 'log'\n",
      "------------------------\n",
      "numpy.log\n",
      "    Natural logarithm, element-wise.\n",
      "numpy.log2\n",
      "    Base-2 logarithm of `x`.\n",
      "numpy.log10\n",
      "    Return the base 10 logarithm of the input array, element-wise.\n",
      "numpy.log1p\n",
      "    Return the natural logarithm of one plus the input array, element-wise.\n",
      "numpy.logspace\n",
      "    Return numbers spaced evenly on a log scale.\n",
      "numpy.logaddexp\n",
      "    Logarithm of the sum of exponentiations of the inputs.\n",
      "numpy.logaddexp2\n",
      "    Logarithm of the sum of exponentiations of the inputs in base-2.\n",
      "numpy.logical_or\n",
      "    Compute the truth value of x1 OR x2 element-wise.\n",
      "numpy.logical_and\n",
      "    Compute the truth value of x1 AND x2 element-wise.\n",
      "numpy.logical_not\n",
      "    Compute the truth value of NOT x element-wise.\n",
      "numpy.logical_xor\n",
      "    Compute the truth value of x1 XOR x2, element-wise.\n",
      "numpy.ma.log\n",
      "    Natural logarithm, element-wise.\n",
      "numpy.ma.log2\n",
      "    Base-2 logarithm of `x`.\n",
      "numpy.ma.log10\n",
      "    Return the base 10 logarithm of the input array, element-wise.\n",
      "numpy.recarray\n",
      "    Construct an ndarray that allows field access using attributes.\n",
      "numpy.geomspace\n",
      "    Return numbers spaced evenly on a log scale (a geometric progression).\n",
      "numpy.seterrcall\n",
      "    Set the floating-point error callback function or log object.\n",
      "numpy.ma.logical_or\n",
      "    Compute the truth value of x1 OR x2 element-wise.\n",
      "numpy.linalg.slogdet\n",
      "    Compute the sign and (natural) logarithm of the determinant of an array.\n",
      "numpy.ma.logical_and\n",
      "    Compute the truth value of x1 AND x2 element-wise.\n",
      "numpy.ma.logical_not\n",
      "    Compute the truth value of NOT x element-wise.\n",
      "numpy.ma.logical_xor\n",
      "    Compute the truth value of x1 XOR x2, element-wise.\n",
      "numpy.ma.mask_or\n",
      "    Combine two masks with the ``logical_or`` operator.\n",
      "numpy.distutils.log.good\n",
      "    If we log WARN messages, log this message as a 'nice' anti-warn\n",
      "numpy.random.Generator.logistic\n",
      "    Draw samples from a logistic distribution.\n",
      "numpy.random.Generator.lognormal\n",
      "    Draw samples from a log-normal distribution.\n",
      "numpy.random.Generator.logseries\n",
      "    Draw samples from a logarithmic series distribution.\n",
      "numpy.distutils.log.Log.good\n",
      "    If we log WARN messages, log this message as a 'nice' anti-warn\n",
      "numpy.linalg._umath_linalg.slogdet\n",
      "    slogdet on the last two dimensions and broadcast on the rest.\n",
      "numpy.random.RandomState.logistic\n",
      "    Draw samples from a logistic distribution.\n",
      "numpy.random.RandomState.lognormal\n",
      "    Draw samples from a log-normal distribution.\n",
      "numpy.random.RandomState.logseries\n",
      "    Draw samples from a logarithmic series distribution.\n",
      "numpy.all\n",
      "    Test whether all array elements along a given axis evaluate to True.\n",
      "numpy.any\n",
      "    Test whether any array element along a given axis evaluates to True.\n",
      "numpy.exp\n",
      "    Calculate the exponential of all elements in the input array.\n",
      "numpy.sort\n",
      "    Return a sorted copy of an array.\n",
      "numpy.expm1\n",
      "    Calculate ``exp(x) - 1`` for all elements in the array.\n",
      "numpy.isnan\n",
      "    Test element-wise for NaN and return result as a boolean array.\n",
      "numpy.MachAr\n",
      "    Diagnosing machine parameters.\n",
      "numpy.distutils.command.build.build\n",
      "    Abstract base class for defining command classes, the \"worker bees\"\n",
      "numpy.distutils.command.sdist.sdist\n",
      "    Abstract base class for defining command classes, the \"worker bees\"\n",
      "numpy.testing.suppress_warnings.record\n",
      "    Append a new recording filter or apply it if the state is entered.\n",
      "numpy.geterr\n",
      "    Get the current way of handling floating-point errors.\n",
      "numpy.kaiser\n",
      "    Return the Kaiser window.\n",
      "numpy.seterr\n",
      "    Set how floating-point errors are handled.\n",
      "numpy.hamming\n",
      "    Return the Hamming window.\n",
      "numpy.hanning\n",
      "    Return the Hanning window.\n",
      "numpy.bartlett\n",
      "    Return the Bartlett window.\n",
      "numpy.blackman\n",
      "    Return the Blackman window.\n",
      "numpy.distutils.command.config.config\n",
      "    Abstract base class for defining command classes, the \"worker bees\"\n",
      "numpy.errstate\n",
      "    errstate(**kwargs)\n",
      "numpy.isfinite\n",
      "    Test element-wise for finiteness (not infinity or not Not a Number).\n",
      "numpy.linspace\n",
      "    Return evenly spaced numbers over a specified interval.\n",
      "numpy.packbits\n",
      "    Packs the elements of a binary-valued array into bits in a uint8 array.\n",
      "numpy.geterrobj\n",
      "    geterrobj()\n",
      "numpy.seterrobj\n",
      "    seterrobj(errobj)\n",
      "numpy.bitwise_or\n",
      "    Compute the bit-wise OR of two arrays element-wise.\n",
      "numpy.distutils.command.install.install\n",
      "    Abstract base class for defining command classes, the \"worker bees\"\n",
      "numpy.geterrcall\n",
      "    Return the current callback function used on floating-point errors.\n",
      "numpy.bitwise_and\n",
      "    Compute the bit-wise AND of two arrays element-wise.\n",
      "numpy.bitwise_not\n",
      "    Compute bit-wise inversion, or bit-wise NOT, element-wise.\n",
      "numpy.bitwise_xor\n",
      "    Compute the bit-wise XOR of two arrays element-wise.\n",
      "numpy.ma.exp\n",
      "    Calculate the exponential of all elements in the input array.\n",
      "numpy.distutils.command.build_py.build_py\n",
      "    Abstract base class for defining command classes, the \"worker bees\"\n",
      "numpy.distutils.command.egg_info.egg_info\n",
      "    Abstract base class for defining command classes, the \"worker bees\"\n",
      "numpy.fft.fft2\n",
      "    Compute the 2-dimensional discrete Fourier Transform\n",
      "numpy.fft.fftn\n",
      "    Compute the N-dimensional discrete Fourier Transform.\n",
      "numpy.fft.hfft\n",
      "    Compute the FFT of a signal that has Hermitian symmetry, i.e., a real\n",
      "numpy.fft.ifft2\n",
      "    Compute the 2-dimensional inverse discrete Fourier Transform.\n",
      "numpy.fft.ifftn\n",
      "    Compute the N-dimensional inverse discrete Fourier Transform.\n",
      "numpy.fft.ihfft\n",
      "    Compute the inverse FFT of a signal that has Hermitian symmetry.\n",
      "numpy.distutils.command.bdist_rpm.bdist_rpm\n",
      "    Abstract base class for defining command classes, the \"worker bees\"\n",
      "numpy.distutils.command.build_ext.build_ext\n",
      "    Abstract base class for defining command classes, the \"worker bees\"\n",
      "numpy.distutils.command.build_src.build_src\n",
      "    Abstract base class for defining command classes, the \"worker bees\"\n",
      "numpy.linalg.det\n",
      "    Compute the determinant of an array.\n",
      "numpy.distutils.command.build_clib.build_clib\n",
      "    Abstract base class for defining command classes, the \"worker bees\"\n",
      "numpy.matrix.any\n",
      "    Test whether any array element along a given axis evaluates to True.\n",
      "numpy.ma.bitwise_or\n",
      "    Compute the bit-wise OR of two arrays element-wise.\n",
      "numpy.histogram_bin_edges\n",
      "    Function to calculate only the edges of the bins used by the `histogram`\n",
      "numpy.ma.bitwise_and\n",
      "    Compute the bit-wise AND of two arrays element-wise.\n",
      "numpy.ma.bitwise_xor\n",
      "    Compute the bit-wise XOR of two arrays element-wise.\n",
      "numpy.distutils.command.install_clib.install_clib\n",
      "    Abstract base class for defining command classes, the \"worker bees\"\n",
      "numpy.distutils.command.install_data.install_data\n",
      "    Abstract base class for defining command classes, the \"worker bees\"\n",
      "numpy.distutils.command.build_scripts.build_scripts\n",
      "    Abstract base class for defining command classes, the \"worker bees\"\n",
      "numpy.distutils.fcompiler.FCompiler.add_link_object\n",
      "    Add 'object' to the list of object files (or analogues, such as\n",
      "numpy.distutils.fcompiler.FCompiler.set_link_objects\n",
      "    Set the list of object files (or analogues) to be included in\n",
      "numpy.random.RandomState\n",
      "    Container for the slow Mersenne Twister pseudo-random number generator.\n",
      "numpy.random.SeedSequence\n",
      "    SeedSequence mixes sources of entropy in a reproducible way to set the\n",
      "numpy.distutils.command.install_headers.install_headers\n",
      "    Abstract base class for defining command classes, the \"worker bees\"\n",
      "numpy.distutils.command.egg_info.egg_info.write_file\n",
      "    Write `data` to `filename` (if not a dry run) after announcing it\n",
      "numpy.testing.suppress_warnings\n",
      "    Context manager and decorator doing much the same as\n",
      "numpy.distutils.command.bdist_rpm.bdist_rpm._format_changelog\n",
      "    Format the changelog correctly and convert it to a list of strings\n",
      "numpy.random.Generator.wald\n",
      "    Draw samples from a Wald, or inverse Gaussian, distribution.\n",
      "numpy.random.Generator.power\n",
      "    Draws samples in [0, 1] from a power distribution with positive\n",
      "numpy.random.Generator.gumbel\n",
      "    Draw samples from a Gumbel distribution.\n",
      "numpy.random.RandomState.wald\n",
      "    Draw samples from a Wald, or inverse Gaussian, distribution.\n",
      "numpy.random.RandomState.power\n",
      "    Draws samples in [0, 1] from a power distribution with positive\n",
      "numpy.random.Generator.vonmises\n",
      "    Draw samples from a von Mises distribution.\n",
      "numpy.random.RandomState.gumbel\n",
      "    Draw samples from a Gumbel distribution.\n",
      "numpy.random.RandomState.vonmises\n",
      "    Draw samples from a von Mises distribution.\n",
      "numpy.distutils.numpy_distribution.NumpyDistribution.finalize_options\n",
      "    Set final values for all the options on the Distribution\n",
      "numpy.core._multiarray_umath.packbits\n",
      "    Packs the elements of a binary-valued array into bits in a uint8 array.\n",
      "numpy.random.Generator.exponential\n",
      "    Draw samples from an exponential distribution.\n",
      "numpy.random.RandomState.exponential\n",
      "    Draw samples from an exponential distribution.\n",
      "numpy.distutils.ccompiler.CCompiler_spawn\n",
      "    Execute a command in a sub-process.\n",
      "numpy.random.Generator.multivariate_normal\n",
      "    Draw random samples from a multivariate normal distribution.\n",
      "numpy.random.RandomState.multivariate_normal\n",
      "    Draw random samples from a multivariate normal distribution.\n",
      "numpy.core._multiarray_umath.normalize_axis_index\n",
      "    Normalizes an axis index, `axis`, such that is a valid positive index into\n",
      "numpy.distutils.ccompiler.CCompiler_show_customization\n",
      "    Print the compiler customizations to stdout."
     ]
    }
   ],
   "source": [
    "np.lookfor('log')"
   ]
  },
  {
   "cell_type": "code",
   "execution_count": 63,
   "metadata": {},
   "outputs": [
    {
     "name": "stdout",
     "output_type": "stream",
     "text": [
      "[2.89037176 2.7080502  2.89037176 2.77258872 2.83321334 2.7080502\n",
      " 2.63905733 2.63905733 2.63905733 2.7080502        -inf       -inf\n",
      "       -inf       -inf       -inf 2.7080502  2.63905733       -inf\n",
      " 2.7080502  2.63905733 3.17805383 3.09104245 2.89037176 3.04452244\n",
      " 3.29583687 3.25809654 3.21887582 3.17805383 3.21887582 3.25809654\n",
      " 3.04452244 2.30258509 2.30258509 2.39789527 2.19722458 3.29583687\n",
      " 3.33220451 3.21887582 3.21887582       -inf 2.94443898 2.77258872\n",
      " 2.83321334 2.94443898 2.89037176 2.63905733 2.63905733 2.63905733\n",
      " 2.63905733 2.48490665 2.56494936 2.56494936 2.89037176 3.09104245\n",
      " 2.94443898 2.89037176 3.13549422 3.33220451 3.40119738 3.40119738\n",
      " 3.4339872  3.55534806 3.29583687 3.25809654 3.17805383 3.21887582\n",
      " 3.13549422 2.99573227 3.04452244 2.56494936 2.63905733 2.7080502\n",
      " 2.63905733 2.83321334 2.39789527 2.56494936 2.48490665 2.56494936\n",
      " 2.94443898 2.7080502  2.56494936 2.56494936 2.63905733 2.89037176\n",
      " 3.09104245 3.04452244 3.25809654 3.09104245 3.33220451 3.13549422\n",
      " 3.33220451 3.29583687 2.56494936 2.63905733 2.56494936 2.63905733\n",
      " 2.7080502  2.48490665 2.56494936 2.56494936 2.63905733 2.56494936\n",
      " 2.48490665 2.56494936 2.89037176 2.77258872 2.89037176 2.89037176\n",
      " 3.13549422 3.25809654 2.39789527 2.48490665 2.56494936 2.48490665\n",
      " 2.89037176 2.99573227 3.04452244 3.09104245 2.89037176 2.94443898\n",
      " 3.04452244 3.25809654 2.7080502  2.77258872 3.36729583 3.17805383\n",
      " 2.99573227 2.94443898 2.7080502  3.17805383 2.99573227 2.39789527\n",
      " 2.99573227 3.04452244 2.94443898 2.7080502  3.4339872  3.25809654\n",
      " 3.4657359  3.21887582 2.77258872 2.77258872 2.89037176 2.77258872\n",
      " 2.56494936 2.63905733 2.63905733 2.63905733 3.36729583 3.25809654\n",
      " 3.25809654 3.4339872  3.4657359  3.33220451 3.17805383 3.25809654\n",
      " 3.17805383 3.25809654 3.4339872  2.94443898 2.89037176 2.7080502\n",
      " 2.7080502  2.77258872 2.7080502  2.77258872 2.63905733 2.83321334\n",
      " 2.77258872 2.7080502  2.89037176 3.04452244 2.99573227 2.56494936\n",
      " 3.36729583 3.13549422 2.99573227 3.13549422 3.17805383 3.21887582\n",
      " 3.17805383 2.89037176 3.36729583 2.94443898 3.13549422 3.13549422\n",
      " 3.09104245 3.21887582 3.49650756 3.33220451 3.21887582 3.21887582\n",
      " 3.25809654 3.29583687 2.86220088 2.77258872 2.74084002 2.67414865\n",
      " 3.09104245 3.09104245 3.17805383 3.11351531 3.36729583 3.19867312\n",
      " 3.36729583 3.49650756 2.99573227 2.89037176 2.91777073 2.86220088\n",
      " 3.38439026 3.4657359  3.33220451 3.27714473 2.99573227 2.56494936\n",
      " 2.94443898 2.94443898 2.80336038 2.80336038 2.56494936 2.56494936\n",
      " 2.56494936 3.44998755 3.40119738 3.58351894 3.23867845 3.51154544\n",
      " 2.86220088 2.83321334 2.74084002 2.7080502  2.86220088 3.02042489\n",
      " 2.94443898 2.91777073 2.77258872 2.74084002 2.74084002 2.77258872\n",
      " 3.36729583 3.19867312 3.25809654 3.23867845 3.41772668 3.51154544\n",
      " 3.40119738 3.41772668 3.09104245 3.06805294 3.06805294 3.763523\n",
      " 3.58629287 3.49042852 3.67376582 3.58629287 2.99071973 2.96527307\n",
      " 3.0056826  2.95491028 3.02042489 3.0056826  3.22286785 3.02042489\n",
      " 2.96527307 3.02529108 3.03495299 2.92316158 2.89591194 2.95491028\n",
      " 2.87356464 2.89591194 2.86220088 3.40119738 3.314186   3.30321697\n",
      " 3.43075618 3.04927304 3.14415228 3.16968558 3.17387846 3.01062089\n",
      " 2.83321334 3.07269331 2.78501124 3.44998755 3.38439026 3.06805294\n",
      " 2.98568194 3.10458668 3.0056826  3.02529108 2.83321334 2.8678989\n",
      " 2.80336038 2.90142159 2.82731362 2.74084002 2.95491028 2.91777073\n",
      " 3.46260601 3.52929738 3.57515069 3.31054301 3.23474917 3.13549422\n",
      " 3.30321697 3.17387846 3.53222564 3.54095932 3.45946629 3.61899333\n",
      " 3.34638915 3.36037539 3.28840189 3.51154544 3.72569343 3.64021428\n",
      " 3.46885603 3.61630876 3.33220451 3.27336401 3.19047635 2.94968834\n",
      " 3.53514535 3.39450839 3.4436181  3.61091791 3.47196645 3.84160054\n",
      " 3.32862669 3.70868208 3.79098468 3.77045944 3.59456877 3.40119738\n",
      " 3.79773386 3.71113006 3.5204608  3.39450839 3.48737508 3.16547505\n",
      " 3.55534806 3.16124671 3.47815842 3.30321697 3.28091122 3.25037449\n",
      " 3.15700042 3.40119738 3.66612247 3.66356165 3.55820113 3.47506723\n",
      " 3.61091791 3.62966009 3.52929738 3.54673969 3.53805656 3.39785848\n",
      " 3.49650756 3.54095932 3.51749784 3.47815842 3.49347266 3.45315712\n",
      " 3.33576958       -inf 3.42426265 3.23474917 3.18635263 3.10906096\n",
      " 3.28091122 3.0056826  2.8678989  3.33220451 3.29583687 3.52636052\n",
      " 3.4339872  3.36729583 3.29583687 3.17805383 3.13549422 3.58351894\n",
      " 3.61091791 3.4339872  3.63758616 3.58351894 3.58351894 3.58351894\n",
      " 3.52636052 3.63758616 3.4657359  3.63758616 3.21887582 3.63758616\n",
      " 3.25809654 3.09104245 3.4657359  3.58351894 3.29583687 3.29583687\n",
      " 3.78418963 3.4657359  3.33220451 3.4339872 ]\n"
     ]
    }
   ],
   "source": [
    "#Use the function you find and apply it to mpg.\n",
    "\n",
    "print(np.log(mpg))"
   ]
  },
  {
   "cell_type": "markdown",
   "metadata": {},
   "source": [
    "11. You your google skills to find the unique items in `origin`. (This may not have been covered in the readings.)"
   ]
  },
  {
   "cell_type": "code",
   "execution_count": 21,
   "metadata": {},
   "outputs": [
    {
     "name": "stdout",
     "output_type": "stream",
     "text": [
      "['US' 'US' 'US' 'US' 'US' 'US' 'US' 'US' 'US' 'US' 'Europe' 'US' 'US' 'US'\n",
      " 'US' 'US' 'US' 'US' 'US' 'US' 'Japan' 'US' 'US' 'US' 'Japan' 'Europe'\n",
      " 'Europe' 'Europe' 'Europe' 'Europe' 'US' 'US' 'US' 'US' 'US' 'Japan' 'US'\n",
      " 'Japan' 'US' 'Europe' 'US' 'US' 'US' 'US' 'US' 'US' 'US' 'US' 'US' 'US'\n",
      " 'US' 'US' 'US' 'US' 'US' 'US' 'US' 'Europe' 'Europe' 'Europe' 'Japan'\n",
      " 'Japan' 'Europe' 'US' 'Japan' 'US' 'Europe' 'US' 'US' 'US' 'US' 'US' 'US'\n",
      " 'US' 'US' 'US' 'US' 'US' 'Japan' 'US' 'US' 'US' 'US' 'Europe' 'Europe'\n",
      " 'Europe' 'Europe' 'US' 'Japan' 'Japan' 'US' 'Japan' 'US' 'US' 'US' 'US'\n",
      " 'US' 'US' 'US' 'US' 'US' 'US' 'US' 'US' 'US' 'US' 'US' 'US' 'US' 'Europe'\n",
      " 'US' 'US' 'US' 'US' 'US' 'Japan' 'US' 'Japan' 'Japan' 'US' 'US' 'Europe'\n",
      " 'US' 'US' 'Europe' 'Europe' 'Europe' 'Europe' 'US' 'Europe' 'Japan' 'US'\n",
      " 'US' 'US' 'US' 'US' 'Japan' 'US' 'Japan' 'US' 'US' 'US' 'US' 'US' 'US'\n",
      " 'US' 'US' 'US' 'Europe' 'Europe' 'Europe' 'Japan' 'Japan' 'US' 'Europe'\n",
      " 'Europe' 'Japan' 'Japan' 'Europe' 'US' 'US' 'US' 'US' 'US' 'US' 'US' 'US'\n",
      " 'US' 'US' 'US' 'US' 'US' 'US' 'US' 'Japan' 'US' 'US' 'US' 'Japan'\n",
      " 'Europe' 'Japan' 'US' 'Europe' 'US' 'Europe' 'Europe' 'Europe' 'Europe'\n",
      " 'Japan' 'Europe' 'Europe' 'US' 'US' 'Europe' 'US' 'US' 'US' 'US' 'US'\n",
      " 'US' 'US' 'US' 'US' 'US' 'Europe' 'Japan' 'US' 'US' 'US' 'US' 'Europe'\n",
      " 'Japan' 'Japan' 'US' 'Europe' 'US' 'Europe' 'Japan' 'Europe' 'US' 'US'\n",
      " 'US' 'US' 'Japan' 'US' 'Europe' 'US' 'Japan' 'US' 'US' 'US' 'US' 'US'\n",
      " 'US' 'US' 'US' 'US' 'US' 'US' 'US' 'Europe' 'US' 'Japan' 'US' 'US' 'US'\n",
      " 'Japan' 'Europe' 'Japan' 'Europe' 'Japan' 'Europe' 'US' 'Japan' 'Japan'\n",
      " 'Japan' 'US' 'US' 'US' 'US' 'US' 'US' 'US' 'US' 'US' 'US' 'US' 'US' 'US'\n",
      " 'US' 'US' 'US' 'US' 'US' 'Japan' 'Japan' 'US' 'Japan' 'US' 'US' 'Japan'\n",
      " 'Europe' 'Europe' 'Europe' 'Europe' 'Europe' 'Japan' 'US' 'US' 'US' 'US'\n",
      " 'US' 'US' 'US' 'US' 'US' 'US' 'US' 'US' 'US' 'Europe' 'Japan' 'US' 'US'\n",
      " 'Europe' 'US' 'Europe' 'US' 'US' 'US' 'Japan' 'Europe' 'US' 'US' 'US'\n",
      " 'US' 'Europe' 'Japan' 'US' 'Japan' 'US' 'US' 'US' 'US' 'Europe' 'Japan'\n",
      " 'Japan' 'Japan' 'Japan' 'Japan' 'US' 'Japan' 'Europe' 'Europe' 'Europe'\n",
      " 'Europe' 'Japan' 'Europe' 'Japan' 'Europe' 'Japan' 'Japan' 'Europe' 'US'\n",
      " 'Japan' 'US' 'US' 'US' 'US' 'US' 'Japan' 'US' 'Japan' 'Japan' 'Japan'\n",
      " 'Japan' 'Japan' 'US' 'US' 'US' 'Europe' 'Europe' 'Japan' 'Japan' 'Japan'\n",
      " 'Japan' 'Europe' 'Europe' 'Europe' 'Japan' 'Japan' 'US' 'US' 'US' 'US'\n",
      " 'US' 'US' 'US' 'US' 'US' 'US' 'US' 'US' 'Europe' 'Japan' 'Japan' 'US'\n",
      " 'US' 'Japan' 'Japan' 'Japan' 'Japan' 'Japan' 'Japan' 'US' 'US' 'US' 'US'\n",
      " 'Japan' 'US' 'US' 'US' 'Europe' 'US' 'US' 'US']\n",
      "{'Europe', 'US', 'Japan'}\n"
     ]
    }
   ],
   "source": [
    "#this is the entire list of values in origin\n",
    "print(origin)"
   ]
  },
  {
   "cell_type": "code",
   "execution_count": 22,
   "metadata": {},
   "outputs": [
    {
     "name": "stdout",
     "output_type": "stream",
     "text": [
      "{'Europe', 'US', 'Japan'}\n"
     ]
    }
   ],
   "source": [
    "#this is the list of unique values in origin\n",
    "print(set(origin))"
   ]
  },
  {
   "cell_type": "markdown",
   "metadata": {},
   "source": [
    "12. \n",
    "- Create a 2D array and print its shape as well as ndim. (Any shape is fine)\n",
    "\n",
    "- Create a 3D array and print its shape as well as ndim.\n",
    "\n",
    "- Create a 4D array and print its shape as well as ndim. *It's hard to visualize 4-Dimensions but numpy can do it with ease!*"
   ]
  },
  {
   "cell_type": "code",
   "execution_count": 5,
   "metadata": {},
   "outputs": [],
   "source": [
    "#the Southern Ocean includes the waters around Antartica\n",
    "#Pacific Ocean: \n",
    "    #its size is a total area of 60,060,700 square miles (155,557,000 sq km)\n",
    "    #average depth of 13,215 feet (4,028 meters)\n",
    "    #deepest point is  -35,840 feet (-10,924 meters)\n",
    "    #the lowest salinity is 3.2%\n",
    "\n",
    "#Atlantic Ocean: \n",
    "    #its size is a total area of 29,637,900 square miles (76,762,000 sq. km)\n",
    "    #average depth of 12,880 feet (3,926 meters) \n",
    "    #deepest point is  -28,231 feet (-8,605 meters)    \n",
    "    #the lowest salinity is 3.3%\n",
    "    \n",
    "#Indian Ocean: \n",
    "    #its size is a total area of 26,469,900 square miles (68,566,000 sq km)\n",
    "    #average depth of  13,002 feet (3,963 meters)\n",
    "    #deepest point is  -23,812 feet (-7,258 meters)\n",
    "    #the lowest salinity is 3.2%\n",
    "\n",
    "#Southern Ocean: \n",
    "    #its size is a total area of 7,848,300 square miles (20,327,000 sq km)\n",
    "    #average depth ranging from 13,100 to 16,400 feet (4,000 to 5,000 meters)\n",
    "    #deepest point is  -23,737 feet (-7,235 meters)\n",
    "    #the lowest salinity is 3.4%\n",
    "    \n",
    "#Arctic Ocean: \n",
    "    #its size is a total area of  5,427,000 square miles (14,056,000 sq km)\n",
    "    #average depth of 3,953 feet (1,205 meters)\n",
    "    #deepest point is  -15,305 feet (-4,665 meters)\n",
    "    #the lowest salinity is 3.0%\n",
    "    \n",
    "ocean_names = ['Pacific', 'Atlantic', 'Indian', 'Southern Ocean', 'Arctic Oceans']\n",
    "total_area_sqmiles = [155557000.0, 76762000.0, 68566000.0, 20327000.0, 14056000.0]\n",
    "avg_depth_meters = [4028.0, 3926.0, 3963.0, 4500.0, 1205.0]\n",
    "deepest_point_meters = [10924.0, 8605.0, 7258.0, 7235.0, 4665.0]\n",
    "salinity_percent_of_mass = [3.2, 3.3, 3.2, 3.4, 3.0]"
   ]
  },
  {
   "cell_type": "code",
   "execution_count": 4,
   "metadata": {},
   "outputs": [
    {
     "name": "stdout",
     "output_type": "stream",
     "text": [
      "(2, 5)\n"
     ]
    },
    {
     "data": {
      "text/plain": [
       "2"
      ]
     },
     "execution_count": 4,
     "metadata": {},
     "output_type": "execute_result"
    }
   ],
   "source": [
    "#This is my 2D array using a list of list values\n",
    "np_size_and_depth = np.array([[155557000, 76762000, 68566000, 20327000, 14056000], [4028, 3926, 3963, 4500, 1205]])\n",
    "print(np_size_and_depth.shape)\n",
    "np_size_and_depth.ndim\n",
    "\n"
   ]
  },
  {
   "cell_type": "code",
   "execution_count": 8,
   "metadata": {},
   "outputs": [
    {
     "name": "stdout",
     "output_type": "stream",
     "text": [
      "(1, 3, 5)\n"
     ]
    },
    {
     "data": {
      "text/plain": [
       "3"
      ]
     },
     "execution_count": 8,
     "metadata": {},
     "output_type": "execute_result"
    }
   ],
   "source": [
    "#This is my 3D array\n",
    "np_ocean_stats = np.array([[[155557000, 76762000, 68566000, 20327000, 14056000], [4028, 3926, 3963, 4500, 1205], [10924, 8605, 7258, 7235, 4665]]])\n",
    "print(np_ocean_stats.shape)\n",
    "np_ocean_stats.ndim\n",
    "\n",
    "#I wonder what the 1 represents"
   ]
  },
  {
   "cell_type": "code",
   "execution_count": 9,
   "metadata": {},
   "outputs": [
    {
     "name": "stdout",
     "output_type": "stream",
     "text": [
      "(1, 1, 4, 5)\n"
     ]
    },
    {
     "data": {
      "text/plain": [
       "4"
      ]
     },
     "execution_count": 9,
     "metadata": {},
     "output_type": "execute_result"
    }
   ],
   "source": [
    "#This is my 4D array\n",
    "\n",
    "np_full_ocean_stats = np.array([[[[155557000, 76762000, 68566000, 20327000, 14056000], [4028, 3926, 3963, 4500, 1205], [10924, 8605, 7258, 7235, 4665], [3.2, 3.3, 3.2, 3.4, 3.0]]]])\n",
    "print(np_full_ocean_stats.shape)\n",
    "np_full_ocean_stats.ndim\n",
    "\n",
    "#again, I wonder what the 1s represent"
   ]
  },
  {
   "cell_type": "markdown",
   "metadata": {},
   "source": [
    "13.Use boolean indexing to create an array of `True/False` using `origin` and the value 'US'."
   ]
  },
  {
   "cell_type": "code",
   "execution_count": 11,
   "metadata": {},
   "outputs": [
    {
     "name": "stdout",
     "output_type": "stream",
     "text": [
      "[ True  True  True  True  True  True  True  True  True  True False  True\n",
      "  True  True  True  True  True  True  True  True False  True  True  True\n",
      " False False False False False False  True  True  True  True  True False\n",
      "  True False  True False  True  True  True  True  True  True  True  True\n",
      "  True  True  True  True  True  True  True  True  True False False False\n",
      " False False False  True False  True False  True  True  True  True  True\n",
      "  True  True  True  True  True  True False  True  True  True  True False\n",
      " False False False  True False False  True False  True  True  True  True\n",
      "  True  True  True  True  True  True  True  True  True  True  True  True\n",
      "  True False  True  True  True  True  True False  True False False  True\n",
      "  True False  True  True False False False False  True False False  True\n",
      "  True  True  True  True False  True False  True  True  True  True  True\n",
      "  True  True  True  True False False False False False  True False False\n",
      " False False False  True  True  True  True  True  True  True  True  True\n",
      "  True  True  True  True  True  True False  True  True  True False False\n",
      " False  True False  True False False False False False False False  True\n",
      "  True False  True  True  True  True  True  True  True  True  True  True\n",
      " False False  True  True  True  True False False False  True False  True\n",
      " False False False  True  True  True  True False  True False  True False\n",
      "  True  True  True  True  True  True  True  True  True  True  True  True\n",
      " False  True False  True  True  True False False False False False False\n",
      "  True False False False  True  True  True  True  True  True  True  True\n",
      "  True  True  True  True  True  True  True  True  True  True False False\n",
      "  True False  True  True False False False False False False False  True\n",
      "  True  True  True  True  True  True  True  True  True  True  True  True\n",
      " False False  True  True False  True False  True  True  True False False\n",
      "  True  True  True  True False False  True False  True  True  True  True\n",
      " False False False False False False  True False False False False False\n",
      " False False False False False False False  True False  True  True  True\n",
      "  True  True False  True False False False False False  True  True  True\n",
      " False False False False False False False False False False False  True\n",
      "  True  True  True  True  True  True  True  True  True  True  True False\n",
      " False False  True  True False False False False False False  True  True\n",
      "  True  True False  True  True  True False  True  True  True]\n"
     ]
    }
   ],
   "source": [
    "us_origin = origin == 'US'\n",
    "print(us_origin)\n",
    "\n",
    "#I compared this to the full list of values in origin that I printed in an earlier question.  It aligns!  True = origins is US, False = origin is not US"
   ]
  },
  {
   "cell_type": "markdown",
   "metadata": {},
   "source": [
    "14. Apply your index (from above) to the `car` array. You should now only see cars that are of US origin. "
   ]
  },
  {
   "cell_type": "code",
   "execution_count": 26,
   "metadata": {},
   "outputs": [
    {
     "name": "stdout",
     "output_type": "stream",
     "text": [
      "['Chevrolet Chevelle Malibu' 'Buick Skylark 320' 'Plymouth Satellite'\n",
      " 'AMC Rebel SST' 'Ford Torino' 'Ford Galaxie 500' 'Chevrolet Impala'\n",
      " 'Plymouth Fury iii' 'Pontiac Catalina' 'AMC Ambassador DPL'\n",
      " 'Chevrolet Chevelle Concours (sw)' 'Ford Torino (sw)'\n",
      " 'Plymouth Satellite (sw)' 'AMC Rebel SST (sw)' 'Dodge Challenger SE'\n",
      " \"Plymouth 'Cuda 340\" 'Ford Mustang Boss 302' 'Chevrolet Monte Carlo'\n",
      " 'Buick Estate Wagon (sw)' 'Plymouth Duster' 'AMC Hornet' 'Ford Maverick'\n",
      " 'AMC Gremlin' 'Ford F250' 'Chevy C20' 'Dodge D200' 'Hi 1200D'\n",
      " 'Chevrolet Vega 2300' 'Ford Pinto' 'AMC Gremlin'\n",
      " 'Plymouth Satellite Custom' 'Chevrolet Chevelle Malibu' 'Ford Torino 500'\n",
      " 'AMC Matador' 'Chevrolet Impala' 'Pontiac Catalina Brougham'\n",
      " 'Ford Galaxie 500' 'Plymouth Fury iii' 'Dodge Monaco (sw)'\n",
      " 'Ford Country Squire (sw)' 'Pontiac Safari (sw)'\n",
      " 'AMC Hornet Sportabout (sw)' 'Chevrolet Vega (sw)' 'Pontiac Firebird'\n",
      " 'Ford Mustang' 'Mercury Capri 2000' 'Plymouth Cricket'\n",
      " 'Dodge Colt Hardtop' 'Chevrolet Vega' 'Ford Pinto Runabout'\n",
      " 'Chevrolet Impala' 'Pontiac Catalina' 'Plymouth Fury III'\n",
      " 'Ford Galaxie 500' 'AMC Ambassador SST' 'Mercury Marquis'\n",
      " 'Buick LeSabre Custom' 'Oldsmobile Delta 88 Royale'\n",
      " 'Chrysler Newport Royal' 'AMC Matador (sw)'\n",
      " 'Chevrolet Chevelle Concours (sw)' 'Ford Gran Torino (sw)'\n",
      " 'Plymouth Satellite Custom (sw)' 'Ford Pinto (sw)' 'Dodge Colt (sw)'\n",
      " 'Buick Century 350' 'AMC Matador' 'Chevrolet Malibu' 'Ford Gran Torino'\n",
      " 'Dodge Coronet Custom' 'Mercury Marquis Brougham'\n",
      " 'Chevrolet Caprice Classic' 'Ford LTD' 'Plymouth Fury Gran Sedan'\n",
      " 'Chrysler New Yorker Brougham' 'Buick Electra 225 Custom'\n",
      " 'AMC Ambassador Brougham' 'Plymouth Valiant' 'Chevrolet Nova Custom'\n",
      " 'AMC Hornet' 'Ford Maverick' 'Plymouth Duster' 'Chevrolet Impala'\n",
      " 'Ford Country' 'Plymouth Custom Suburb' 'Oldsmobile Vista Cruiser'\n",
      " 'AMC Gremlin' 'Chevrolet Vega' 'Ford Pinto' 'Mercury Capri v6'\n",
      " 'Chevrolet Monte Carlo S' 'Pontiac Grand Prix' 'Dodge Dart Custom'\n",
      " 'Oldsmobile Omega' 'Plymouth Duster' 'Ford Maverick' 'AMC Hornet'\n",
      " 'Chevrolet Nova' 'Ford Pinto' 'Chevrolet Vega'\n",
      " 'Chevrolet Chevelle Malibu Classic' 'AMC Matador'\n",
      " 'Plymouth Satellite Sebring' 'Ford Gran Torino'\n",
      " 'Buick Century Luxus (sw)' 'Dodge Coronet Custom (sw)'\n",
      " 'Ford Gran Torino (sw)' 'AMC Matador (sw)' 'Dodge Colt'\n",
      " 'Plymouth Valiant Custom' 'Chevrolet Nova' 'Mercury Monarch'\n",
      " 'Ford Maverick' 'Pontiac Catalina' 'Chevrolet Bel Air'\n",
      " 'Plymouth Grand Fury' 'Ford LTD' 'Buick Century'\n",
      " 'Chevrolete Chevelle Malibu' 'AMC Matador' 'Plymouth Fury'\n",
      " 'Buick Skyhawk' 'Chevrolet Monza 2+2' 'Ford Mustang II' 'Ford Pinto'\n",
      " 'AMC Gremlin' 'Pontiac Astro' 'Ford Pinto' 'AMC Pacer' 'Capri ii'\n",
      " 'Dodge Colt' 'Chevrolet Chevelle Malibu Classic' 'Dodge Coronet Brougham'\n",
      " 'AMC Matador' 'Ford Gran Torino' 'Plymouth Valiant' 'Chevrolet Nova'\n",
      " 'Ford Maverick' 'AMC Hornet' 'Chevrolet Chevette' 'Chevrolet Woody'\n",
      " 'Dodge Aspen SE' 'Ford Grenada ghia' 'Pontiac Ventura SJ' 'AMC Pacer d/l'\n",
      " 'Ford Pinto' 'Plymouth Volare Premier v8' 'Cadillac Seville'\n",
      " 'Chevrolet C10' 'Ford F108' 'Dodge D100' 'Buick Opel Isuzu Deluxe'\n",
      " 'Plymouth Arrow GS' 'Chevrolet Caprice Classic'\n",
      " 'Oldsmobile Cutlass Supreme' 'Dodge Monaco Brougham'\n",
      " 'Mercury Cougar Brougham' 'Chevrolet Concours' 'Buick Skylark'\n",
      " 'Plymouth Volare Custom' 'Ford Grenada' 'Pontiac Grand Prix LJ'\n",
      " 'Chevrolet Monte Carlo Landau' 'Chrysler Cordoba' 'Ford Thunderbird'\n",
      " 'Pontiac Sunbird Coupe' 'Ford Mustang II 2+2' 'Chevrolet Chevette'\n",
      " 'Dodge Colt m/m' 'Ford Fiesta' 'Oldsmobile Cutlass Salon Brougham'\n",
      " 'Dodge Diplomat' 'Mercury Monarch ghia' 'Pontiac Phoenix LJ'\n",
      " 'Chevrolet Malibu' 'Ford Fairmont (auto)' 'Ford Fairmont (man)'\n",
      " 'Plymouth Volare' 'AMC Concord' 'Buick Century Special' 'Mercury Zephyr'\n",
      " 'Dodge Aspen' 'AMC Concord d/l' 'Chevrolet Monte Carlo Landau'\n",
      " 'Buick Regal Sport Coupe (turbo)' 'Ford Futura' 'Dodge Magnum XE'\n",
      " 'Chevrolet Chevette' 'Dodge Omni' 'Plymouth Sapporo'\n",
      " 'Oldsmobile Starfire SX' 'Pontiac Lemans V6' 'Mercury Zephyr 6'\n",
      " 'Ford Fairmont 4' 'AMC Concord DL 6' 'Dodge Aspen 6'\n",
      " 'Chevrolet Caprice Classic' 'Ford LTD Landau' 'Mercury Grand Marquis'\n",
      " 'Dodge St. Regis' 'Buick Estate Wagon (sw)' 'Ford Country Squire (sw)'\n",
      " 'Chevrolet Malibu Classic (sw)' 'Chrysler Lebaron Town @ Country (sw)'\n",
      " 'Dodge Colt Hatchback Custom' 'AMC Spirit DL' 'Cadillac Eldorado'\n",
      " 'Oldsmobile Cutlass Salon Brougham' 'Plymouth Horizon'\n",
      " 'Plymouth Horizon TC3' 'Buick Skylark Limited' 'Chevrolet Citation'\n",
      " 'Oldsmobile Omega Brougham' 'Pontiac Phoenix' 'Chevrolet Chevette'\n",
      " 'Chevrolet Citation' 'Ford Fairmont' 'AMC Concord' 'Dodge Aspen'\n",
      " 'Dodge Colt' 'Ford Mustang Cobra' 'Plymouth Reliant' 'Buick Skylark'\n",
      " 'Dodge Aries Wagon (sw)' 'Chevrolet Citation' 'Plymouth Reliant'\n",
      " 'Plymouth Champ' 'Plymouth Horizon 4' 'Ford Escort 4W' 'Ford Escort 2H'\n",
      " 'Buick Century' 'Oldsmobile Cutlass LS' 'Ford Grenada gl'\n",
      " 'Chrysler Lebaron Salon' 'Chevrolet Cavalier' 'Chevrolet Cavalier Wagon'\n",
      " 'Chevrolet Cavalier 2-door' 'Pontiac J2000 SE Hatchback' 'Dodge Aries SE'\n",
      " 'Pontiac Phoenix' 'Ford Fairmont Futura' 'AMC Concord DL'\n",
      " 'Plymouth Horizon Miser' 'Mercury Lynx l' 'Buick Century Limited'\n",
      " 'Oldsmobile Cutlass Ciera (diesel)' 'Chrysler Lebaron Medallion'\n",
      " 'Ford Grenada l' 'Dodge Charger 2.2' 'Chevrolet Camaro' 'Ford Mustang GL'\n",
      " 'Dodge Rampage' 'Ford Ranger' 'Chevy S-10']\n"
     ]
    }
   ],
   "source": [
    "print(car[origin == 'US'])"
   ]
  },
  {
   "cell_type": "code",
   "execution_count": 30,
   "metadata": {},
   "outputs": [
    {
     "name": "stdout",
     "output_type": "stream",
     "text": [
      "['Citroen DS-21 Pallas' 'Toyota Corolla Mark ii' 'Datsun PL510'\n",
      " 'Volkswagen 1131 Deluxe Sedan' 'Peugeot 504' 'Audi 100 LS' 'Saab 99e'\n",
      " 'BMW 2002' 'Datsun PL510' 'Toyota Corolla' 'Volkswagen Super Beetle 117'\n",
      " 'Opel 1900' 'Peugeot 304' 'Fiat 124B' 'Toyota Corolla 1200' 'Datsun 1200'\n",
      " 'Volkswagen Model 111' 'Toyota Corolla Hardtop' 'Volkswagen Type 3'\n",
      " 'Mazda RX2 Coupe' 'Volvo 145e (sw)' 'Volkswagen 411 (sw)'\n",
      " 'Peugeot 504 (sw)' 'Renault 12 (sw)' 'Datsun 510 (sw)'\n",
      " 'Toyota Corolla Mark II (sw)' 'Toyota Corolla 1600 (sw)'\n",
      " 'Volkswagen Super Beetle' 'Toyota Camry' 'Datsun 610' 'Mazda RX3'\n",
      " 'Fiat 124 Sport Coupe' 'Fiat 128' 'Opel Manta' 'Audi 100LS' 'Volvo 144ea'\n",
      " 'Saab 99le' 'Toyota Mark II' 'Datsun B210' 'Toyota Corolla 1200'\n",
      " 'Audi Fox' 'Volkswagen Dasher' 'Opel Manta' 'Toyota Corolla' 'Datsun 710'\n",
      " 'Fiat 128' 'Fiat 124 TC' 'Honda Civic' 'Subaru' 'Fiat x1.9'\n",
      " 'Toyota Corolla' 'Toyota Corolla' 'Volkswagen Dasher' 'Datsun 710'\n",
      " 'Volkswagen Rabbit' 'Audi 100LS' 'Peugeot 504' 'Volvo 244DL' 'Saab 99LE'\n",
      " 'Honda Civic CVCC' 'Fiat 131' 'Opel 1900' 'Renault 12tl'\n",
      " 'Volkswagen Rabbit' 'Honda Civic' 'Volkswagen Rabbit' 'Datsun B-210'\n",
      " 'Toyota Corolla' 'Volvo 245' 'Peugeot 504' 'Toyota Mark II'\n",
      " 'Mercedes-Benz 280s' 'Honda Accord CVCC' 'Renault 5 GTL'\n",
      " 'Datsun F-10 Hatchback' 'Volkswagen Rabbit Custom'\n",
      " 'Toyota Corolla Liftback' 'Subaru DL' 'Volkswagen Dasher' 'Datsun 810'\n",
      " 'BMW 320i' 'Mazda RX-4' 'Volkswagen Rabbit Custom Diesel'\n",
      " 'Mazda GLC Deluxe' 'Datsun B210 GX' 'Honda Civic CVCC' 'Toyota Corolla'\n",
      " 'Datsun 510' 'Toyota Celica GT Liftback' 'Datsun 200-SX' 'Audi 5000'\n",
      " 'Volvo 264gl' 'Saab 99gle' 'Peugeot 604sl' 'Volkswagen Scirocco'\n",
      " 'Honda Accord LX' 'Volkswagen Rabbit Custom' 'Mazda GLC Deluxe'\n",
      " 'Mercedes Benz 300d' 'Peugeot 504' 'Datsun 210' 'Fiat Strada Custom'\n",
      " 'Volkswagen Rabbit' 'Toyota Corolla Tercel' 'Datsun 310' 'Audi 4000'\n",
      " 'Toyota Corolla Liftback' 'Mazda 626' 'Datsun 510 Hatchback'\n",
      " 'Toyota Corolla' 'Mazda GLC' 'Datsun 210' 'Volkswagen Rabbit C (Diesel)'\n",
      " 'Volkswagen Dasher (diesel)' 'Audi 5000s (diesel)' 'Mercedes-Benz 240d'\n",
      " 'Honda Civic 1500 gl' 'Renault Lecar Deluxe' 'Subaru DL'\n",
      " 'Volkswagen Rabbit' 'Datsun 280-ZX' 'Mazda RX-7 GS' 'Triumph TR7 Coupe'\n",
      " 'Honda Accord' 'Toyota Starlet' 'Honda Civic 1300' 'Subaru'\n",
      " 'Datsun 210 MPG' 'Toyota Tercel' 'Mazda GLC 4' 'Volkswagen Jetta'\n",
      " 'Renault 18i' 'Honda Prelude' 'Toyota Corolla' 'Datsun 200SX' 'Mazda 626'\n",
      " 'Peugeot 505s Turbo Diesel' 'Saab 900s' 'Volvo Diesel' 'Toyota Cressida'\n",
      " 'Datsun 810 Maxima' 'Volkswagen Rabbit l' 'Mazda GLC Custom l'\n",
      " 'Mazda GLC Custom' 'Nissan Stanza XE' 'Honda Accord' 'Toyota Corolla'\n",
      " 'Honda Civic' 'Honda Civic (auto)' 'Datsun 310 GX' 'Toyota Celica GT'\n",
      " 'Volkswagen Pickup']\n"
     ]
    }
   ],
   "source": [
    "print(car[origin != 'US'])\n",
    "#I was curious to see what cars were left out"
   ]
  },
  {
   "cell_type": "markdown",
   "metadata": {},
   "source": [
    "**The remaining questions are OPTIONAL**: The readings did not address all of these so you may have to use some \"Google-Fu\". "
   ]
  },
  {
   "cell_type": "markdown",
   "metadata": {},
   "source": [
    "1.What is an identity matrix? \n",
    "Create an identiy matrix of size 5 using an np method. "
   ]
  },
  {
   "cell_type": "code",
   "execution_count": null,
   "metadata": {},
   "outputs": [],
   "source": []
  },
  {
   "cell_type": "markdown",
   "metadata": {},
   "source": [
    "2. Transpose the following array. "
   ]
  },
  {
   "cell_type": "code",
   "execution_count": null,
   "metadata": {},
   "outputs": [],
   "source": [
    "transpose_me = np.array([[1,2,3],\n",
    "                      [4,5,6],\n",
    "                      [7,8,9]])\n"
   ]
  },
  {
   "cell_type": "code",
   "execution_count": null,
   "metadata": {},
   "outputs": [],
   "source": []
  },
  {
   "cell_type": "markdown",
   "metadata": {},
   "source": [
    "3. Why does this multiplication operation fail? "
   ]
  },
  {
   "cell_type": "code",
   "execution_count": 52,
   "metadata": {},
   "outputs": [
    {
     "ename": "ValueError",
     "evalue": "operands could not be broadcast together with shapes (3,3) (2,3) ",
     "output_type": "error",
     "traceback": [
      "\u001b[1;31m---------------------------------------------------------------------------\u001b[0m",
      "\u001b[1;31mValueError\u001b[0m                                Traceback (most recent call last)",
      "\u001b[1;32m<ipython-input-52-18999d978af8>\u001b[0m in \u001b[0;36m<module>\u001b[1;34m\u001b[0m\n\u001b[0;32m      5\u001b[0m                       [4,5,6]])\n\u001b[0;32m      6\u001b[0m \u001b[1;33m\u001b[0m\u001b[0m\n\u001b[1;32m----> 7\u001b[1;33m \u001b[0marr1\u001b[0m \u001b[1;33m*\u001b[0m \u001b[0marr2\u001b[0m\u001b[1;33m\u001b[0m\u001b[1;33m\u001b[0m\u001b[0m\n\u001b[0m",
      "\u001b[1;31mValueError\u001b[0m: operands could not be broadcast together with shapes (3,3) (2,3) "
     ]
    }
   ],
   "source": [
    "arr1 = np.array([[1,2,3],\n",
    "                      [4,5,6],\n",
    "                      [7,8,9]])\n",
    "arr2 = np.array([[1,2,3],\n",
    "                      [4,5,6]])\n",
    "\n",
    "arr1 * arr2"
   ]
  },
  {
   "cell_type": "code",
   "execution_count": null,
   "metadata": {},
   "outputs": [],
   "source": [
    "#the arrays are not the same size, therefore they can't be multipled.  They have to both me 3 rows/3 columns or 2 rows/3 columns"
   ]
  },
  {
   "cell_type": "markdown",
   "metadata": {},
   "source": [
    "Use numpy to answer the following questions. "
   ]
  },
  {
   "cell_type": "markdown",
   "metadata": {},
   "source": [
    "4. What is the average horsepower for `Europe` cars? (Hint: create boolean index of 'US' apply it to horsepower and perform the calculation.)"
   ]
  },
  {
   "cell_type": "code",
   "execution_count": 37,
   "metadata": {},
   "outputs": [
    {
     "name": "stdout",
     "output_type": "stream",
     "text": [
      "Average horsepower for Europe cars is 78.78082191780823\n"
     ]
    }
   ],
   "source": [
    "european_cars = car[origin == 'Europe']\n",
    "eu_horsepower = horsepower[origin == 'Europe']\n",
    "print(\"Average horsepower for Europe cars is \" + str(np.mean(eu_horsepower)))"
   ]
  },
  {
   "cell_type": "markdown",
   "metadata": {},
   "source": [
    "5. On average are Japanse cars more fuel efficient than US cars? "
   ]
  },
  {
   "cell_type": "code",
   "execution_count": 46,
   "metadata": {},
   "outputs": [
    {
     "name": "stdout",
     "output_type": "stream",
     "text": [
      "Fuel efficiency for Japanese cars is 30.450632911392404 mpg\n",
      "Fuel efficiency for US cars is 19.688188976377955 mpg\n",
      "Japanese cars get 10.76244393501445 mpg than US cars.  They are more efficient.\n"
     ]
    }
   ],
   "source": [
    "print(\"Fuel efficiency for Japanese cars is \" + str(np.mean(mpg[origin == 'Japan'])) + \" mpg\")\n",
    "print(\"Fuel efficiency for US cars is \" + str(np.mean(mpg[origin == 'US'])) + \" mpg\")\n",
    "\n",
    "print(\"Japanese cars get \" + str(np.mean(mpg[origin == 'Japan']) - np.mean(mpg[origin == 'US'])) + \" mpg than US cars.  They are more efficient.\")"
   ]
  },
  {
   "cell_type": "markdown",
   "metadata": {},
   "source": [
    "6. What is the correlation coefficient of `mpg` and `weight`?"
   ]
  },
  {
   "cell_type": "code",
   "execution_count": 51,
   "metadata": {},
   "outputs": [
    {
     "name": "stdout",
     "output_type": "stream",
     "text": [
      "[[ 1.         -0.78750994]\n",
      " [-0.78750994  1.        ]]\n"
     ]
    }
   ],
   "source": [
    "mpg_weight_correlation = np.corrcoef(mpg, weight)\n",
    "\n",
    "print(mpg_weight_correlation)"
   ]
  },
  {
   "cell_type": "markdown",
   "metadata": {},
   "source": [
    "7. Why might you prefer an `np.array()` over a Python `list`? And when is a Python `list` preferred? "
   ]
  },
  {
   "cell_type": "code",
   "execution_count": null,
   "metadata": {},
   "outputs": [],
   "source": [
    "#You want a numpy array whenever you want to perform calculations or repeat tedius actions on a list of values.  \n",
    "#I suspect you may want to use numpy to perform many common string functions (like replace a word with another word throughout an online article)\n",
    "#The speed and lower computer-memory-load of numpy makes it preferable"
   ]
  },
  {
   "cell_type": "code",
   "execution_count": null,
   "metadata": {},
   "outputs": [],
   "source": [
    "#however, running a 'for loop' is faster and requries less computer memory than with a NumPy array"
   ]
  }
 ],
 "metadata": {
  "kernelspec": {
   "display_name": "Python 3",
   "language": "python",
   "name": "python3"
  },
  "language_info": {
   "codemirror_mode": {
    "name": "ipython",
    "version": 3
   },
   "file_extension": ".py",
   "mimetype": "text/x-python",
   "name": "python",
   "nbconvert_exporter": "python",
   "pygments_lexer": "ipython3",
   "version": "3.7.8"
  }
 },
 "nbformat": 4,
 "nbformat_minor": 4
}
